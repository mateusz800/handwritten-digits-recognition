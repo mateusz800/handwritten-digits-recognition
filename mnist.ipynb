{
  "nbformat": 4,
  "nbformat_minor": 0,
  "metadata": {
    "colab": {
      "name": "mnist.ipynb",
      "provenance": [],
      "collapsed_sections": [],
      "mount_file_id": "1EEXecPgLFVAnP87p0xlT3BE4ymJ90JHm",
      "authorship_tag": "ABX9TyMwxtJJ2XBJ3dgcj04Q9EI+",
      "include_colab_link": true
    },
    "kernelspec": {
      "name": "python3",
      "display_name": "Python 3"
    }
  },
  "cells": [
    {
      "cell_type": "markdown",
      "metadata": {
        "id": "view-in-github",
        "colab_type": "text"
      },
      "source": [
        "<a href=\"https://colab.research.google.com/github/mateusz800/handwritten-digits-recognition/blob/master/mnist.ipynb\" target=\"_parent\"><img src=\"https://colab.research.google.com/assets/colab-badge.svg\" alt=\"Open In Colab\"/></a>"
      ]
    },
    {
      "cell_type": "code",
      "metadata": {
        "id": "4sjIC9sZFji0",
        "colab_type": "code",
        "colab": {}
      },
      "source": [
        "import matplotlib.pyplot as plt\n",
        "\n",
        "from keras.datasets import mnist\n",
        "from keras.models import Sequential\n",
        "from keras.layers import Dense, Conv2D, Flatten, MaxPool2D\n",
        "from keras.utils import to_categorical\n",
        "from keras.preprocessing.image import ImageDataGenerator"
      ],
      "execution_count": 0,
      "outputs": []
    },
    {
      "cell_type": "markdown",
      "metadata": {
        "id": "vhaMTOq0F4g4",
        "colab_type": "text"
      },
      "source": [
        "Reading data"
      ]
    },
    {
      "cell_type": "code",
      "metadata": {
        "id": "kVzq_BkMFw_V",
        "colab_type": "code",
        "colab": {}
      },
      "source": [
        "(x_train, y_train), (x_test, y_test) = mnist.load_data()"
      ],
      "execution_count": 0,
      "outputs": []
    },
    {
      "cell_type": "code",
      "metadata": {
        "id": "OAZWeKbBGALZ",
        "colab_type": "code",
        "colab": {
          "base_uri": "https://localhost:8080/",
          "height": 34
        },
        "outputId": "c2b9c934-1888-4273-c63d-c8279e67bbc4"
      },
      "source": [
        "x_train.shape"
      ],
      "execution_count": 141,
      "outputs": [
        {
          "output_type": "execute_result",
          "data": {
            "text/plain": [
              "(60000, 28, 28)"
            ]
          },
          "metadata": {
            "tags": []
          },
          "execution_count": 141
        }
      ]
    },
    {
      "cell_type": "code",
      "metadata": {
        "id": "Ps26EVjaGCht",
        "colab_type": "code",
        "colab": {
          "base_uri": "https://localhost:8080/",
          "height": 282
        },
        "outputId": "2b35a5fa-8764-4c4b-94c5-4042516e81bd"
      },
      "source": [
        "plt.imshow(x_train[0])"
      ],
      "execution_count": 142,
      "outputs": [
        {
          "output_type": "execute_result",
          "data": {
            "text/plain": [
              "<matplotlib.image.AxesImage at 0x7f2bb8fca4e0>"
            ]
          },
          "metadata": {
            "tags": []
          },
          "execution_count": 142
        },
        {
          "output_type": "display_data",
          "data": {
            "image/png": "[encoded data removed]",
            "text/plain": [
              "<Figure size 432x288 with 1 Axes>"
            ]
          },
          "metadata": {
            "tags": []
          }
        }
      ]
    },
    {
      "cell_type": "markdown",
      "metadata": {
        "id": "nnw4eaNYNrWP",
        "colab_type": "text"
      },
      "source": [
        "Generating more input data"
      ]
    },
    {
      "cell_type": "code",
      "metadata": {
        "id": "E7o68mRAJnnE",
        "colab_type": "code",
        "colab": {
          "base_uri": "https://localhost:8080/",
          "height": 34
        },
        "outputId": "62dce22b-548b-4355-efa2-cc097c056755"
      },
      "source": [
        "x_train = x_train.reshape(*x_train.shape,1)\n",
        "x_test = x_test.reshape(*x_test.shape,1)\n",
        "x_train.shape"
      ],
      "execution_count": 143,
      "outputs": [
        {
          "output_type": "execute_result",
          "data": {
            "text/plain": [
              "(60000, 28, 28, 1)"
            ]
          },
          "metadata": {
            "tags": []
          },
          "execution_count": 143
        }
      ]
    },
    {
      "cell_type": "code",
      "metadata": {
        "id": "3wHgBNOKNkQw",
        "colab_type": "code",
        "colab": {}
      },
      "source": [
        "datagen = ImageDataGenerator(\n",
        "    featurewise_center=True,\n",
        "    featurewise_std_normalization=True,\n",
        "    rotation_range=20,\n",
        "    width_shift_range=0.2,\n",
        "    height_shift_range=0.2,\n",
        "    rescale=1./255)\n",
        "datagen.fit(x_train)"
      ],
      "execution_count": 0,
      "outputs": []
    },
    {
      "cell_type": "code",
      "metadata": {
        "id": "HTvUXd41GHqP",
        "colab_type": "code",
        "colab": {}
      },
      "source": [
        "\n",
        "x_test = x_test/255\n",
        "\n",
        "y_train = to_categorical(y_train, 10)\n",
        "y_test = to_categorical(y_test, 10)"
      ],
      "execution_count": 0,
      "outputs": []
    },
    {
      "cell_type": "code",
      "metadata": {
        "id": "pFiv706GHfEm",
        "colab_type": "code",
        "colab": {}
      },
      "source": [
        "model = Sequential([\n",
        "    Conv2D(32, input_shape=x_train[0].shape, kernel_size=(2,2)),\n",
        "    Conv2D(64, kernel_size=(2,2)),\n",
        "    MaxPool2D(pool_size=(2,2)),\n",
        "    Dense(128, activation='relu'),\n",
        "    Dense(64,activation='relu'),\n",
        "    Flatten(),\n",
        "    Dense(10, activation='softmax')\n",
        "])\n",
        "model.compile(loss='categorical_crossentropy', optimizer='adam')"
      ],
      "execution_count": 0,
      "outputs": []
    },
    {
      "cell_type": "code",
      "metadata": {
        "id": "AfXEvpu0VnHC",
        "colab_type": "code",
        "colab": {
          "base_uri": "https://localhost:8080/",
          "height": 391
        },
        "outputId": "ee0daa11-5a6d-411e-dec9-4594ce74b02e"
      },
      "source": [
        "model.summary()"
      ],
      "execution_count": 147,
      "outputs": [
        {
          "output_type": "stream",
          "text": [
            "Model: \"sequential_20\"\n",
            "_________________________________________________________________\n",
            "Layer (type)                 Output Shape              Param #   \n",
            "=================================================================\n",
            "conv2d_30 (Conv2D)           (None, 27, 27, 32)        160       \n",
            "_________________________________________________________________\n",
            "conv2d_31 (Conv2D)           (None, 26, 26, 64)        8256      \n",
            "_________________________________________________________________\n",
            "max_pooling2d_9 (MaxPooling2 (None, 13, 13, 64)        0         \n",
            "_________________________________________________________________\n",
            "dense_31 (Dense)             (None, 13, 13, 128)       8320      \n",
            "_________________________________________________________________\n",
            "dense_32 (Dense)             (None, 13, 13, 64)        8256      \n",
            "_________________________________________________________________\n",
            "flatten_19 (Flatten)         (None, 10816)             0         \n",
            "_________________________________________________________________\n",
            "dense_33 (Dense)             (None, 10)                108170    \n",
            "=================================================================\n",
            "Total params: 133,162\n",
            "Trainable params: 133,162\n",
            "Non-trainable params: 0\n",
            "_________________________________________________________________\n"
          ],
          "name": "stdout"
        }
      ]
    },
    {
      "cell_type": "code",
      "metadata": {
        "id": "8p60uCKiHnYG",
        "colab_type": "code",
        "colab": {
          "base_uri": "https://localhost:8080/",
          "height": 357
        },
        "outputId": "44e7c2a2-8f4e-4a73-f57e-7291bb67ebbe"
      },
      "source": [
        "history = model.fit_generator(datagen.flow(x_train, y_train, batch_size=32),\n",
        "                    steps_per_epoch=len(x_train) / 32, epochs=10)"
      ],
      "execution_count": 148,
      "outputs": [
        {
          "output_type": "stream",
          "text": [
            "Epoch 1/10\n",
            "1875/1875 [==============================] - 142s 76ms/step - loss: 2.3020\n",
            "Epoch 2/10\n",
            "1875/1875 [==============================] - 142s 75ms/step - loss: 2.3014\n",
            "Epoch 3/10\n",
            "1875/1875 [==============================] - 144s 77ms/step - loss: 2.3014\n",
            "Epoch 4/10\n",
            "1875/1875 [==============================] - 144s 77ms/step - loss: 2.3013\n",
            "Epoch 5/10\n",
            "1875/1875 [==============================] - 142s 76ms/step - loss: 2.3013\n",
            "Epoch 6/10\n",
            "1875/1875 [==============================] - 142s 76ms/step - loss: 2.3014\n",
            "Epoch 7/10\n",
            "1875/1875 [==============================] - 143s 76ms/step - loss: 2.3013\n",
            "Epoch 8/10\n",
            "1875/1875 [==============================] - 143s 76ms/step - loss: 2.3014\n",
            "Epoch 9/10\n",
            "1875/1875 [==============================] - 142s 76ms/step - loss: 2.3013\n",
            "Epoch 10/10\n",
            "1875/1875 [==============================] - 144s 77ms/step - loss: 2.3013\n"
          ],
          "name": "stdout"
        }
      ]
    },
    {
      "cell_type": "code",
      "metadata": {
        "id": "10IPKKxBQjpT",
        "colab_type": "code",
        "colab": {
          "base_uri": "https://localhost:8080/",
          "height": 187
        },
        "outputId": "494b354c-d555-4a09-e085-a41020a604fb"
      },
      "source": [
        ""
      ],
      "execution_count": 109,
      "outputs": [
        {
          "output_type": "execute_result",
          "data": {
            "text/plain": [
              "{'loss': [2.309872798029582,\n",
              "  2.288153626759847,\n",
              "  2.211539757537842,\n",
              "  2.0758446245829263,\n",
              "  1.9847274253209433,\n",
              "  1.9400839502334595,\n",
              "  1.920302015240987,\n",
              "  1.896274241956075,\n",
              "  1.8772094975153606,\n",
              "  1.873337729771932]}"
            ]
          },
          "metadata": {
            "tags": []
          },
          "execution_count": 109
        }
      ]
    },
    {
      "cell_type": "code",
      "metadata": {
        "id": "BTcbcxb-KWYr",
        "colab_type": "code",
        "colab": {
          "base_uri": "https://localhost:8080/",
          "height": 293
        },
        "outputId": "610cc645-0b8e-4dae-e39b-cd1d13aa30c9"
      },
      "source": [
        "plt.figure()\n",
        "plt.plot(history.history['loss'])"
      ],
      "execution_count": 149,
      "outputs": [
        {
          "output_type": "execute_result",
          "data": {
            "text/plain": [
              "[<matplotlib.lines.Line2D at 0x7f2bb8d62390>]"
            ]
          },
          "metadata": {
            "tags": []
          },
          "execution_count": 149
        },
        {
          "output_type": "display_data",
          "data": {
            "image/png": "[encoded data removed]",
            "text/plain": [
              "<Figure size 432x288 with 1 Axes>"
            ]
          },
          "metadata": {
            "tags": []
          }
        }
      ]
    },
    {
      "cell_type": "markdown",
      "metadata": {
        "id": "aJEsjuG5TLob",
        "colab_type": "text"
      },
      "source": [
        "Saving model to file"
      ]
    },
    {
      "cell_type": "code",
      "metadata": {
        "id": "1EU-02daTpeB",
        "colab_type": "code",
        "colab": {
          "base_uri": "https://localhost:8080/",
          "height": 34
        },
        "outputId": "a9e34086-c1e0-4dec-a9a9-0c662fed6ea3"
      },
      "source": [
        "cd \"/content/drive/My Drive/\""
      ],
      "execution_count": 150,
      "outputs": [
        {
          "output_type": "stream",
          "text": [
            "/content/drive/My Drive\n"
          ],
          "name": "stdout"
        }
      ]
    },
    {
      "cell_type": "code",
      "metadata": {
        "id": "b5ZNFBe2QE4s",
        "colab_type": "code",
        "colab": {}
      },
      "source": [
        "model_json = model.to_json()\n",
        "with open(\"model.json\", \"w\") as json_file:\n",
        "    json_file.write(model_json)\n",
        "model.save_weights(\"model.h5\")"
      ],
      "execution_count": 0,
      "outputs": []
    },
    {
      "cell_type": "code",
      "metadata": {
        "id": "llbrT-yvTKJ2",
        "colab_type": "code",
        "colab": {}
      },
      "source": [
        ""
      ],
      "execution_count": 0,
      "outputs": []
    }
  ]
}